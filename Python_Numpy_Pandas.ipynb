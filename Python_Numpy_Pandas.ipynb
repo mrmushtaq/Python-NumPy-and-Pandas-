{
 "cells": [
  {
   "cell_type": "markdown",
   "id": "4ef8713a",
   "metadata": {},
   "source": [
    "# **Python (NumPy and Pandas)**"
   ]
  },
  {
   "cell_type": "markdown",
   "id": "daf067fe",
   "metadata": {},
   "source": [
    "**Objectives**"
   ]
  },
  {
   "cell_type": "markdown",
   "id": "592b2a89",
   "metadata": {},
   "source": [
    "**The objective of this assignment is to familiarize students with NumPy, a powerful Python library for numerical computing. Students will practice creating and manipulating arrays, performing vectorized operations, using broadcasting, and applying mathematical functions efficiently. Another objective of this assignment is to develop students’ understanding of data analysis using Pandas. Students will practice creating DataFrames, reading data from CSV, filtering, grouping, sorting, and performing basic statistics using Pandas operations.**"
   ]
  },
  {
   "cell_type": "markdown",
   "id": "5c9a6957",
   "metadata": {},
   "source": [
    "**Task#01: Array Creation**"
   ]
  },
  {
   "cell_type": "code",
   "execution_count": 23,
   "id": "341125d1",
   "metadata": {},
   "outputs": [
    {
     "name": "stdout",
     "output_type": "stream",
     "text": [
      "[1 2 3 4 5]\n",
      "[0. 0. 0. 0. 0. 0. 0. 0. 0. 0.]\n",
      "[1. 1. 1. 1. 1. 1. 1. 1. 1. 1.]\n",
      "[0 1 2 3 4 5 6 7 8 9]\n"
     ]
    }
   ],
   "source": [
    "import numpy as np\n",
    "import pandas as pd\n",
    "# Create the following arrays using NumPy:\n",
    "#  o Anarray from a Python list [1, 2, 3, 4, 5]\n",
    "print(np.array([1, 2, 3, 4, 5]))\n",
    "#  o Anarray of 10 zeros\n",
    "print(np.zeros(10))\n",
    "#  o Anarray of 10 ones\n",
    "print(np.ones(10))\n",
    "#  o Anarray of numbers from 0 to 9\n",
    "print(np.array(range(10)))\n",
    "# or print(np.arange(10))\n"
   ]
  },
  {
   "cell_type": "markdown",
   "id": "664e4e75",
   "metadata": {},
   "source": [
    "**Task#02: Array Properties**"
   ]
  },
  {
   "cell_type": "code",
   "execution_count": 24,
   "id": "e2523ae0",
   "metadata": {},
   "outputs": [
    {
     "name": "stdout",
     "output_type": "stream",
     "text": [
      "Shape =  (2, 3)\n",
      "Dimentions =  2\n",
      "Data Type =  int64\n"
     ]
    }
   ],
   "source": [
    "# Create a 2D array [[1, 2, 3], [4, 5, 6]]\n",
    "arr = np.array([[1, 2, 3], [4, 5, 6]])\n",
    "#  Print:\n",
    "#  o Shape\n",
    "print(\"Shape = \",arr.shape)\n",
    "#  o Dimensions\n",
    "print(\"Dimentions = \",arr.ndim)\n",
    "#  o Datatype\n",
    "print(\"Data Type = \", arr.dtype)"
   ]
  },
  {
   "cell_type": "markdown",
   "id": "92ea5541",
   "metadata": {},
   "source": [
    "**Task#03: Indexing & Slicing**"
   ]
  },
  {
   "cell_type": "code",
   "execution_count": 25,
   "id": "c2660cc0",
   "metadata": {},
   "outputs": [
    {
     "name": "stdout",
     "output_type": "stream",
     "text": [
      "[10 11 12 13 14]\n",
      "[18 19 20]\n",
      "[20 19 18 17 16 15 14 13 12 11 10]\n"
     ]
    }
   ],
   "source": [
    "# Create an array from 10 to 20\n",
    "arr = np.array(range(10,21))\n",
    "#  Print:\n",
    "#  o First 5 elements\n",
    "print(arr[:5])\n",
    "#  o Last3elements\n",
    "print(arr[-3:])\n",
    "#  o Reverse the array\n",
    "print(arr[::-1])"
   ]
  },
  {
   "cell_type": "markdown",
   "id": "4efe6008",
   "metadata": {},
   "source": [
    "**Task#04: Reshape Array**"
   ]
  },
  {
   "cell_type": "code",
   "execution_count": 26,
   "id": "6b6ff705",
   "metadata": {},
   "outputs": [
    {
     "name": "stdout",
     "output_type": "stream",
     "text": [
      "[[ 1  2  3  4]\n",
      " [ 5  6  7  8]\n",
      " [ 9 10 11 12]]\n"
     ]
    }
   ],
   "source": [
    "# Create a 1D array with values from 1 to 12\n",
    "arr_1d = np.array(range(1,13))\n",
    "#  Reshape it into a 3x4 matrix\n",
    "print(arr_1d.reshape(3,4))"
   ]
  },
  {
   "cell_type": "markdown",
   "id": "a45d67c9",
   "metadata": {},
   "source": [
    "**Task#05: Basic Arithmetic Operations**"
   ]
  },
  {
   "cell_type": "code",
   "execution_count": 27,
   "id": "db525ed9",
   "metadata": {},
   "outputs": [
    {
     "name": "stdout",
     "output_type": "stream",
     "text": [
      "Addition:  [5 7 9]\n",
      "Subtraction:  [-3 -3 -3]\n",
      "Multiplication [ 4 10 18]\n",
      "Division:  [0.25 0.4  0.5 ]\n",
      "Dot Product:  32\n",
      "Dot Product:  32\n",
      "Dot Product:  32\n"
     ]
    }
   ],
   "source": [
    "#  Create two arrays:\n",
    "#  a =np.array([1, 2, 3])\n",
    "#  b =np.array([4, 5, 6])\n",
    "#  Perform:\n",
    "# o Addition, Subtraction, Multiplication, Division\n",
    "#  o Dotproduct\n",
    "a =np.array([1, 2, 3])\n",
    "b =np.array([4, 5, 6])\n",
    "\n",
    "print(\"Addition: \",a+b)\n",
    "print(\"Subtraction: \",a-b)\n",
    "print(\"Multiplication\",a*b)\n",
    "print(\"Division: \",a/b)\n",
    "\n",
    "# Dot Product\n",
    "#Method 1\n",
    "print(\"Dot Product: \", np.dot(a,b))\n",
    "#Method 2\n",
    "print(\"Dot Product: \", a@b)\n",
    "#Method 3\n",
    "print(\"Dot Product: \", sum(a*b))\n",
    "\n",
    "\n"
   ]
  },
  {
   "cell_type": "markdown",
   "id": "2d164b3d",
   "metadata": {},
   "source": [
    "**Task#06: Statistical Functions**"
   ]
  },
  {
   "cell_type": "code",
   "execution_count": 28,
   "id": "99a436dd",
   "metadata": {},
   "outputs": [
    {
     "name": "stdout",
     "output_type": "stream",
     "text": [
      "Minimum:  10\n",
      "Maximum:  95\n",
      "Mean:  54.13333333333333\n",
      "Standard Deviation:  26.147955093191424\n",
      "Sum:  812\n",
      "Product:  5803892416555614208\n"
     ]
    }
   ],
   "source": [
    "# Create an array of 15 random integers between 10 and 100\n",
    "ran_num = np.random.randint(10,100,15)\n",
    "#  Find:\n",
    "#  o Minimumand Maximum\n",
    "print(\"Minimum: \", ran_num.min())\n",
    "print(\"Maximum: \", ran_num.max())\n",
    "#  o Mean and Standard Deviation\n",
    "print(\"Mean: \", ran_num.mean())\n",
    "print(\"Standard Deviation: \", ran_num.std())\n",
    "#  o SumandProduct\n",
    "print(\"Sum: \", ran_num.sum())\n",
    "print(\"Product: \", ran_num.prod())\n"
   ]
  },
  {
   "cell_type": "markdown",
   "id": "321fb972",
   "metadata": {},
   "source": [
    "**Task#07: Array Filtering (Boolean Indexing)**"
   ]
  },
  {
   "cell_type": "code",
   "execution_count": 29,
   "id": "215301a5",
   "metadata": {},
   "outputs": [
    {
     "name": "stdout",
     "output_type": "stream",
     "text": [
      "[ 1  2  3  4  5  6  7  8  9 10 11 12 13 14 15 16 17 18 19 20]\n",
      "[ 2  4  6  8 10 12 14 16 18 20]\n",
      "[11 12 13 14 15 16 17 18 19 20]\n"
     ]
    }
   ],
   "source": [
    "#  Create an array of numbers from 1 to 20\n",
    "arr1 = np.arange(1,21)\n",
    "print(arr1)\n",
    "#  Extract:\n",
    "#  o All even numbers\n",
    "even_arr = arr1[arr1%2==0]\n",
    "print(even_arr)\n",
    "#  o Numbers greater than 10\n",
    "filtered_arr = arr1[arr1>10]\n",
    "print(filtered_arr)"
   ]
  },
  {
   "cell_type": "markdown",
   "id": "e82574c6",
   "metadata": {},
   "source": [
    "**Task#08: Create Identity and Diagonal Matrices**"
   ]
  },
  {
   "cell_type": "code",
   "execution_count": 30,
   "id": "64029e04",
   "metadata": {},
   "outputs": [
    {
     "name": "stdout",
     "output_type": "stream",
     "text": [
      "[[1. 0. 0. 0.]\n",
      " [0. 1. 0. 0.]\n",
      " [0. 0. 1. 0.]\n",
      " [0. 0. 0. 1.]]\n",
      "[[10  0  0  0]\n",
      " [ 0 20  0  0]\n",
      " [ 0  0 30  0]\n",
      " [ 0  0  0 40]]\n"
     ]
    }
   ],
   "source": [
    "#  Create a 4x4 identity matrix\n",
    "identity = np.identity(4)\n",
    "print(identity)\n",
    "#  Create a diagonal matrix with values [10, 20, 30, 40]\n",
    "elements = [10,20,30,40]\n",
    "diagonal = np.diag(elements)\n",
    "print(diagonal)"
   ]
  },
  {
   "cell_type": "markdown",
   "id": "2e8edcc2",
   "metadata": {},
   "source": [
    "**Task#09: List Filtering with Loops**"
   ]
  },
  {
   "cell_type": "code",
   "execution_count": 31,
   "id": "b8661fee",
   "metadata": {},
   "outputs": [
    {
     "name": "stdout",
     "output_type": "stream",
     "text": [
      "Original list: [12  7  9 24 18  5 42 33 10]\n",
      "Even numbers: [12 24 18 42 10]\n"
     ]
    }
   ],
   "source": [
    "# •\tGiven a list of numbers, use a loop to:\n",
    "# o\tCreate a new list containing only even numbers\n",
    "numbers = np.array([12, 7, 9, 24, 18, 5, 42, 33, 10])\n",
    "even_numbers = numbers[numbers % 2 == 0]\n",
    "\n",
    "print(\"Original list:\", numbers)\n",
    "print(\"Even numbers:\", even_numbers)"
   ]
  },
  {
   "cell_type": "markdown",
   "id": "290f90ae",
   "metadata": {},
   "source": [
    "**Task#10: Load Dataset**"
   ]
  },
  {
   "cell_type": "code",
   "execution_count": 32,
   "id": "901b4c70",
   "metadata": {},
   "outputs": [
    {
     "name": "stdout",
     "output_type": "stream",
     "text": [
      "    ID    Name  Age Department  Salary  Experience_Years\n",
      "0  101     Ali   22         IT   50000               1.0\n",
      "1  102    Sara   24         HR   55000               2.0\n",
      "2  103    Zain   23    Finance   52000               1.5\n",
      "3  104  Fatima   21         IT   51000               1.0\n",
      "4  105    Omar   25         HR   58000               3.0\n",
      "--------------------------------------------------\n",
      "ID                    int64\n",
      "Name                 object\n",
      "Age                   int64\n",
      "Department           object\n",
      "Salary                int64\n",
      "Experience_Years    float64\n",
      "dtype: object\n"
     ]
    },
    {
     "name": "stderr",
     "output_type": "stream",
     "text": [
      "<>:6: SyntaxWarning: invalid escape sequence '\\S'\n",
      "<>:6: SyntaxWarning: invalid escape sequence '\\S'\n",
      "C:\\Users\\MS Computer\\AppData\\Local\\Temp\\ipykernel_5672\\4098471183.py:6: SyntaxWarning: invalid escape sequence '\\S'\n",
      "  df = pd.read_csv(\"D:\\Semester V\\Data Science\\pandas_practice_dataset.csv\")\n"
     ]
    }
   ],
   "source": [
    "# Load the CSV file using pd.read_csv()\n",
    "#  Display the first 5 rows\n",
    "#  Print column names and data types\n",
    "\n",
    "import pandas as pd\n",
    "df = pd.read_csv(\"D:\\Semester V\\Data Science\\pandas_practice_dataset.csv\")\n",
    "print(df.head())\n",
    "print(\"-\"*50)\n",
    "print(df.dtypes)"
   ]
  },
  {
   "cell_type": "markdown",
   "id": "2376b768",
   "metadata": {},
   "source": [
    "**Task#11: Basic Data Exploration**"
   ]
  },
  {
   "cell_type": "code",
   "execution_count": 33,
   "id": "debea025",
   "metadata": {},
   "outputs": [
    {
     "name": "stdout",
     "output_type": "stream",
     "text": [
      "(5, 6)\n",
      "               ID        Age        Salary  Experience_Years\n",
      "count    5.000000   5.000000      5.000000           5.00000\n",
      "mean   103.000000  23.000000  53200.000000           1.70000\n",
      "std      1.581139   1.581139   3271.085447           0.83666\n",
      "min    101.000000  21.000000  50000.000000           1.00000\n",
      "25%    102.000000  22.000000  51000.000000           1.00000\n",
      "50%    103.000000  23.000000  52000.000000           1.50000\n",
      "75%    104.000000  24.000000  55000.000000           2.00000\n",
      "max    105.000000  25.000000  58000.000000           3.00000\n",
      "['IT' 'HR' 'Finance']\n"
     ]
    }
   ],
   "source": [
    "# Show the number of rows and columns\n",
    "print(df.shape)\n",
    "#  Get basic statistics using .describe()\n",
    "print(df.describe())\n",
    "#  Print the number of unique departments\n",
    "print(df[\"Department\"].unique())"
   ]
  },
  {
   "cell_type": "markdown",
   "id": "0704fdda",
   "metadata": {},
   "source": [
    "**Task#12: Selecting Data**"
   ]
  },
  {
   "cell_type": "code",
   "execution_count": 34,
   "id": "2e44dd63",
   "metadata": {},
   "outputs": [
    {
     "name": "stdout",
     "output_type": "stream",
     "text": [
      "     Name  Salary\n",
      "0     Ali   50000\n",
      "1    Sara   55000\n",
      "2    Zain   52000\n",
      "3  Fatima   51000\n",
      "4    Omar   58000\n",
      "------------------------------\n",
      "    ID    Name  Age Department  Salary  Experience_Years\n",
      "0  101     Ali   22         IT   50000               1.0\n",
      "3  104  Fatima   21         IT   51000               1.0\n"
     ]
    }
   ],
   "source": [
    "# Print all employee names and their salaries\n",
    "print(df[[\"Name\",\"Salary\"]])\n",
    "print(\"-\"*30)\n",
    "#  Show all rows where Department is \"IT\"\n",
    "print(df[df[\"Department\"]==\"IT\"])"
   ]
  },
  {
   "cell_type": "markdown",
   "id": "e211a84d",
   "metadata": {},
   "source": [
    "**Task#13: Filtering and Conditions**"
   ]
  },
  {
   "cell_type": "code",
   "execution_count": null,
   "id": "e575dd9f",
   "metadata": {},
   "outputs": [
    {
     "name": "stdout",
     "output_type": "stream",
     "text": [
      "   Name  Salary\n",
      "1  Sara   55000\n",
      "4  Omar   58000\n",
      "------------------------------\n",
      "   Name  Salary\n",
      "1  Sara   55000\n",
      "4  Omar   58000\n",
      "==============================\n",
      "   Name  Experience_Years\n",
      "1  Sara               2.0\n",
      "4  Omar               3.0\n",
      "------------------------------\n",
      "   Name  Experience_Years\n",
      "1  Sara               2.0\n",
      "4  Omar               3.0\n"
     ]
    }
   ],
   "source": [
    "# Show all employees with salary > 52000\n",
    "#Method 1\n",
    "print(df[df[\"Salary\"]>52000][[\"Name\",\"Salary\"]])\n",
    "print(\"-\"*30)\n",
    "#Method 2\n",
    "print(df.query(\"Salary>52000\")[[\"Name\",\"Salary\"]])\n",
    "\n",
    "#  Show employees with experience >= 2 years\n",
    "print(\"=\"*30)\n",
    "print(df[df[\"Experience_Years\"]>=2][[\"Name\",\"Experience_Years\"]])\n",
    "\n",
    "print(\"-\"*30)\n",
    "print(df.query(\"Experience_Years>=2\")[[\"Name\",\"Experience_Years\"]])\n"
   ]
  },
  {
   "cell_type": "markdown",
   "id": "afc4c69d",
   "metadata": {},
   "source": [
    "**Task#14: Sorting and Indexing**"
   ]
  },
  {
   "cell_type": "code",
   "execution_count": 36,
   "id": "352a963b",
   "metadata": {},
   "outputs": [
    {
     "name": "stdout",
     "output_type": "stream",
     "text": [
      "    ID    Name  Age Department  Salary  Experience_Years\n",
      "4  105    Omar   25         HR   58000               3.0\n",
      "1  102    Sara   24         HR   55000               2.0\n",
      "2  103    Zain   23    Finance   52000               1.5\n",
      "3  104  Fatima   21         IT   51000               1.0\n",
      "0  101     Ali   22         IT   50000               1.0\n",
      "------------------------------------------------------------\n",
      "       Name  Age Department  Salary  Experience_Years\n",
      "ID                                                   \n",
      "101     Ali   22         IT   50000               1.0\n",
      "102    Sara   24         HR   55000               2.0\n",
      "103    Zain   23    Finance   52000               1.5\n",
      "104  Fatima   21         IT   51000               1.0\n",
      "105    Omar   25         HR   58000               3.0\n"
     ]
    }
   ],
   "source": [
    "# Sort the data by salary in descending order\n",
    "print(df.sort_values(by=\"Salary\", ascending=False))\n",
    "#  Set the “ID” column as the index\n",
    "print(\"-\"*60)\n",
    "print(df.set_index(\"ID\"))"
   ]
  },
  {
   "cell_type": "markdown",
   "id": "ec47e4c7",
   "metadata": {},
   "source": [
    "**Task#15: Adding/Modifying Columns**"
   ]
  },
  {
   "cell_type": "code",
   "execution_count": 37,
   "id": "b5c263b3",
   "metadata": {},
   "outputs": [
    {
     "name": "stdout",
     "output_type": "stream",
     "text": [
      "    ID    Name  Age Department  Salary  Experience_Years   Bonus\n",
      "0  101     Ali   22         IT   50000               1.0  5000.0\n",
      "1  102    Sara   24         HR   55000               2.0  5500.0\n",
      "2  103    Zain   23    Finance   52000               1.5  5200.0\n",
      "3  104  Fatima   21         IT   51000               1.0  5100.0\n",
      "4  105    Omar   25         HR   58000               3.0  5800.0\n",
      "    ID    Name  Age Department  Salary  Experience_Years   Bonus\n",
      "0  101     Ali   22         IT   50000               1.0  5000.0\n",
      "1  102    Sara   24         HR   55000               2.0  5500.0\n",
      "2  103    Zain   24    Finance   52000               1.5  5200.0\n",
      "3  104  Fatima   21         IT   51000               1.0  5100.0\n",
      "4  105    Omar   25         HR   58000               3.0  5800.0\n"
     ]
    }
   ],
   "source": [
    "# Create a new column Bonus = 10% of Salary\n",
    "df[\"Bonus\"] = 0.1*df[\"Salary\"]\n",
    "print(df.head())\n",
    "#  Update the Age of “Zain” to 24\n",
    "df.loc[df[\"Name\"]==\"Zain\", \"Age\"] = 24\n",
    "print(df)"
   ]
  },
  {
   "cell_type": "markdown",
   "id": "7e44c117",
   "metadata": {},
   "source": [
    "**Task#16: Grouping and Aggregation**"
   ]
  },
  {
   "cell_type": "code",
   "execution_count": 38,
   "id": "21ae1eb8",
   "metadata": {},
   "outputs": [
    {
     "name": "stdout",
     "output_type": "stream",
     "text": [
      "Department\n",
      "Finance    52000.0\n",
      "HR         56500.0\n",
      "IT         50500.0\n",
      "Name: Salary, dtype: float64\n",
      "Department\n",
      "Finance    1.5\n",
      "HR         5.0\n",
      "IT         2.0\n",
      "Name: Experience_Years, dtype: float64\n"
     ]
    }
   ],
   "source": [
    "# Group employees by Department and calculate:\n",
    "#  o Average Salary\n",
    "print(df.groupby(\"Department\")[\"Salary\"].mean())\n",
    "#  o Total Experience\n",
    "print(df.groupby(\"Department\")[\"Experience_Years\"].sum())\n"
   ]
  },
  {
   "cell_type": "markdown",
   "id": "2a081178",
   "metadata": {},
   "source": [
    "**Task#17: Advanced Filtering**"
   ]
  },
  {
   "cell_type": "code",
   "execution_count": 39,
   "id": "acdc6561",
   "metadata": {},
   "outputs": [
    {
     "name": "stdout",
     "output_type": "stream",
     "text": [
      "   Name Department  Salary\n",
      "1  Sara         HR   55000\n",
      "4  Omar         HR   58000\n"
     ]
    }
   ],
   "source": [
    "# Show employees who are either in “HR” or have a salary greater than 55000\n",
    "print(df[(df[\"Department\"]==\"HR\") | (df[\"Salary\"]>52000)][[\"Name\", \"Department\", \"Salary\"]])"
   ]
  },
  {
   "cell_type": "markdown",
   "id": "65abb32d",
   "metadata": {},
   "source": [
    "**Task#18: Apply and Lambda**"
   ]
  },
  {
   "cell_type": "code",
   "execution_count": 40,
   "id": "0c768102",
   "metadata": {},
   "outputs": [
    {
     "name": "stdout",
     "output_type": "stream",
     "text": [
      "    ID    Name  Age Department  Salary  Experience_Years   Bonus Category\n",
      "0  101     Ali   22         IT   50000               1.0  5000.0      Low\n",
      "1  102    Sara   24         HR   55000               2.0  5500.0     High\n",
      "2  103    Zain   24    Finance   52000               1.5  5200.0      Low\n",
      "3  104  Fatima   21         IT   51000               1.0  5100.0      Low\n",
      "4  105    Omar   25         HR   58000               3.0  5800.0     High\n"
     ]
    }
   ],
   "source": [
    "# Create a new column Salary_Category:\n",
    "#  o \"High\" if salary > 53000\n",
    "#  o \"Low\"otherwise\n",
    "df[\"Category\"] = df[\"Salary\"].apply(lambda x: \"High\" if x>53000 else \"Low\")\n",
    "print(df)"
   ]
  },
  {
   "cell_type": "markdown",
   "id": "78236116",
   "metadata": {},
   "source": [
    "**Task#19: Dropping and Renaming**"
   ]
  },
  {
   "cell_type": "code",
   "execution_count": 41,
   "id": "f3b58e7b",
   "metadata": {},
   "outputs": [
    {
     "name": "stdout",
     "output_type": "stream",
     "text": [
      "    ID    Name  Age Department  Salary   Bonus Category\n",
      "0  101     Ali   22         IT   50000  5000.0      Low\n",
      "1  102    Sara   24         HR   55000  5500.0     High\n",
      "2  103    Zain   24    Finance   52000  5200.0      Low\n",
      "3  104  Fatima   21         IT   51000  5100.0      Low\n",
      "4  105    Omar   25         HR   58000  5800.0     High\n",
      "    ID    Name  Age Department  Monthly Salary  Experience_Years   Bonus  \\\n",
      "0  101     Ali   22         IT           50000               1.0  5000.0   \n",
      "1  102    Sara   24         HR           55000               2.0  5500.0   \n",
      "2  103    Zain   24    Finance           52000               1.5  5200.0   \n",
      "3  104  Fatima   21         IT           51000               1.0  5100.0   \n",
      "4  105    Omar   25         HR           58000               3.0  5800.0   \n",
      "\n",
      "  Category  \n",
      "0      Low  \n",
      "1     High  \n",
      "2      Low  \n",
      "3      Low  \n",
      "4     High  \n"
     ]
    }
   ],
   "source": [
    "# Drop the Experience_Years column\n",
    "print(df.drop(columns=\"Experience_Years\"))\n",
    "\n",
    "#  Rename column Salary to Monthly_Salary\n",
    "print(df.rename(columns={\"Salary\":\"Monthly Salary\"}))\n",
    "\n"
   ]
  },
  {
   "cell_type": "markdown",
   "id": "dd0102dc",
   "metadata": {},
   "source": [
    "**Task#20: Export Updated Data**"
   ]
  },
  {
   "cell_type": "code",
   "execution_count": 42,
   "id": "7e440e83",
   "metadata": {},
   "outputs": [],
   "source": [
    "# •\tSave the updated DataFrame with new columns and change into a new CSV file\n",
    "df.to_csv('updated_students.csv', index=False)"
   ]
  },
  {
   "cell_type": "markdown",
   "id": "279f2401",
   "metadata": {},
   "source": [
    "## **The End**"
   ]
  }
 ],
 "metadata": {
  "kernelspec": {
   "display_name": "Python 3",
   "language": "python",
   "name": "python3"
  },
  "language_info": {
   "codemirror_mode": {
    "name": "ipython",
    "version": 3
   },
   "file_extension": ".py",
   "mimetype": "text/x-python",
   "name": "python",
   "nbconvert_exporter": "python",
   "pygments_lexer": "ipython3",
   "version": "3.13.7"
  }
 },
 "nbformat": 4,
 "nbformat_minor": 5
}
